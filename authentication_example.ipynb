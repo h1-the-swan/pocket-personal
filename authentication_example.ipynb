{
 "cells": [
  {
   "cell_type": "code",
   "execution_count": 1,
   "metadata": {
    "ExecuteTime": {
     "end_time": "2019-10-23T16:40:21.436078Z",
     "start_time": "2019-10-23T16:40:21.429654Z"
    }
   },
   "outputs": [],
   "source": [
    "import sys, os, time\n",
    "from dotenv import load_dotenv, find_dotenv"
   ]
  },
  {
   "cell_type": "code",
   "execution_count": 2,
   "metadata": {
    "ExecuteTime": {
     "end_time": "2019-10-23T16:41:31.388131Z",
     "start_time": "2019-10-23T16:41:31.372215Z"
    }
   },
   "outputs": [
    {
     "data": {
      "text/plain": [
       "True"
      ]
     },
     "execution_count": 2,
     "metadata": {},
     "output_type": "execute_result"
    }
   ],
   "source": [
    "load_dotenv(find_dotenv())"
   ]
  },
  {
   "cell_type": "code",
   "execution_count": 3,
   "metadata": {
    "ExecuteTime": {
     "end_time": "2019-10-23T16:41:59.382095Z",
     "start_time": "2019-10-23T16:41:59.377273Z"
    }
   },
   "outputs": [],
   "source": [
    "from pocket import Pocket"
   ]
  },
  {
   "cell_type": "code",
   "execution_count": 4,
   "metadata": {
    "ExecuteTime": {
     "end_time": "2019-10-23T16:42:49.840938Z",
     "start_time": "2019-10-23T16:42:49.355306Z"
    }
   },
   "outputs": [],
   "source": [
    "consumer_key = os.environ['POCKET_CONSUMER_KEY']\n",
    "redirect_uri = 'https://www.google.com'\n",
    "request_token = Pocket.get_request_token(consumer_key=consumer_key, redirect_uri=redirect_uri)"
   ]
  },
  {
   "cell_type": "code",
   "execution_count": 6,
   "metadata": {
    "ExecuteTime": {
     "end_time": "2019-10-23T16:43:18.130572Z",
     "start_time": "2019-10-23T16:43:18.126318Z"
    }
   },
   "outputs": [],
   "source": [
    "auth_url = Pocket.get_auth_url(code=request_token, redirect_uri=redirect_uri)"
   ]
  },
  {
   "cell_type": "code",
   "execution_count": 8,
   "metadata": {
    "ExecuteTime": {
     "end_time": "2019-10-23T16:43:33.649385Z",
     "start_time": "2019-10-23T16:43:33.644030Z"
    }
   },
   "outputs": [
    {
     "name": "stdout",
     "output_type": "stream",
     "text": [
      "https://getpocket.com/auth/authorize?request_token=f65057e2-9afb-e945-3064-76d124&redirect_uri=https://www.google.com\n"
     ]
    }
   ],
   "source": [
    "print(auth_url)"
   ]
  },
  {
   "cell_type": "code",
   "execution_count": 9,
   "metadata": {
    "ExecuteTime": {
     "end_time": "2019-10-23T16:44:00.932059Z",
     "start_time": "2019-10-23T16:44:00.442891Z"
    }
   },
   "outputs": [],
   "source": [
    "user_credentials = Pocket.get_credentials(consumer_key=consumer_key, code=request_token)"
   ]
  },
  {
   "cell_type": "code",
   "execution_count": 11,
   "metadata": {
    "ExecuteTime": {
     "end_time": "2019-10-23T16:44:21.865489Z",
     "start_time": "2019-10-23T16:44:21.856574Z"
    }
   },
   "outputs": [],
   "source": [
    "access_token = user_credentials['access_token']"
   ]
  },
  {
   "cell_type": "code",
   "execution_count": 12,
   "metadata": {
    "ExecuteTime": {
     "end_time": "2019-10-23T16:44:55.694890Z",
     "start_time": "2019-10-23T16:44:55.690982Z"
    }
   },
   "outputs": [],
   "source": [
    "pocket_instance = Pocket(consumer_key, access_token)"
   ]
  },
  {
   "cell_type": "code",
   "execution_count": 14,
   "metadata": {
    "ExecuteTime": {
     "end_time": "2019-10-23T16:47:16.104843Z",
     "start_time": "2019-10-23T16:46:52.709965Z"
    }
   },
   "outputs": [],
   "source": [
    "x = pocket_instance.get()"
   ]
  },
  {
   "cell_type": "code",
   "execution_count": 15,
   "metadata": {
    "ExecuteTime": {
     "end_time": "2019-10-23T16:47:16.111006Z",
     "start_time": "2019-10-23T16:47:16.106617Z"
    }
   },
   "outputs": [
    {
     "data": {
      "text/plain": [
       "tuple"
      ]
     },
     "execution_count": 15,
     "metadata": {},
     "output_type": "execute_result"
    }
   ],
   "source": [
    "type(x)"
   ]
  },
  {
   "cell_type": "code",
   "execution_count": 16,
   "metadata": {
    "ExecuteTime": {
     "end_time": "2019-10-23T16:47:21.832681Z",
     "start_time": "2019-10-23T16:47:21.822340Z"
    }
   },
   "outputs": [
    {
     "data": {
      "text/plain": [
       "2"
      ]
     },
     "execution_count": 16,
     "metadata": {},
     "output_type": "execute_result"
    }
   ],
   "source": [
    "len(x)"
   ]
  },
  {
   "cell_type": "code",
   "execution_count": 21,
   "metadata": {
    "ExecuteTime": {
     "end_time": "2019-10-23T16:47:45.778512Z",
     "start_time": "2019-10-23T16:47:45.772396Z"
    }
   },
   "outputs": [
    {
     "data": {
      "text/plain": [
       "dict_keys(['status', 'complete', 'list', 'error', 'search_meta', 'since'])"
      ]
     },
     "execution_count": 21,
     "metadata": {},
     "output_type": "execute_result"
    }
   ],
   "source": [
    "x[0].keys()"
   ]
  },
  {
   "cell_type": "code",
   "execution_count": 22,
   "metadata": {
    "ExecuteTime": {
     "end_time": "2019-10-23T16:47:51.591726Z",
     "start_time": "2019-10-23T16:47:51.586257Z"
    }
   },
   "outputs": [
    {
     "data": {
      "text/plain": [
       "KeysView({'Date': 'Wed, 23 Oct 2019 16:47:07 GMT', 'Content-Type': 'application/json', 'Transfer-Encoding': 'chunked', 'Connection': 'keep-alive', 'Server': 'Apache/2.4.25 (Debian)', 'X-Frame-Options': 'SAMEORIGIN', 'Status': '200 OK', 'X-Limit-Key-Limit': '10000', 'X-Limit-Key-Remaining': '9999', 'X-Limit-Key-Reset': '3600', 'X-Source': 'Pocket', 'P3P': 'policyref=\"/w3c/p3p.xml\", CP=\"ALL CURa ADMa DEVa OUR IND UNI COM NAV INT STA PRE\"'})"
      ]
     },
     "execution_count": 22,
     "metadata": {},
     "output_type": "execute_result"
    }
   ],
   "source": [
    "x[1].keys()"
   ]
  },
  {
   "cell_type": "code",
   "execution_count": 27,
   "metadata": {
    "ExecuteTime": {
     "end_time": "2019-10-23T16:48:45.374283Z",
     "start_time": "2019-10-23T16:48:45.368943Z"
    }
   },
   "outputs": [
    {
     "data": {
      "text/plain": [
       "{'item_id': '2765120574',\n",
       " 'resolved_id': '2765120574',\n",
       " 'given_url': 'https://tv.avclub.com/a-halloween-bobs-burgers-is-the-perfect-belcher-showcas-1839217703',\n",
       " 'given_title': 'A Halloween \"Bob\\'s Burgers\" is the perfect Belcher showcase',\n",
       " 'favorite': '0',\n",
       " 'status': '0',\n",
       " 'time_added': '1571750062',\n",
       " 'time_updated': '1571750062',\n",
       " 'time_read': '0',\n",
       " 'time_favorited': '0',\n",
       " 'sort_id': 0,\n",
       " 'resolved_title': 'A Halloween \"Bob\\'s Burgers\" is the perfect Belcher showcase',\n",
       " 'resolved_url': 'https://tv.avclub.com/a-halloween-bobs-burgers-is-the-perfect-belcher-showcas-1839217703',\n",
       " 'excerpt': 'When it someday comes time to sum up just what Bob’s Burgers was all about, you could do a lot worse than starting with tonight’s episode. “Pig Trouble In Little Tina” gets to the heart of all five Belchers, even if a couple of them are refracted through Tina’s guilty Halloween dreams.',\n",
       " 'is_article': '1',\n",
       " 'is_index': '0',\n",
       " 'has_video': '0',\n",
       " 'has_image': '0',\n",
       " 'word_count': '1240',\n",
       " 'lang': 'en',\n",
       " 'time_to_read': 6,\n",
       " 'amp_url': 'https://tv.avclub.com/a-halloween-bobs-burgers-is-the-perfect-belcher-showcas-1839217703/amp',\n",
       " 'top_image_url': 'https://i.kinja-img.com/gawker-media/image/upload/c_fill,f_auto,fl_progressive,g_center,h_675,pg_1,q_80,w_1200/ryxoi3iu3w9ouynhyf1n.jpg',\n",
       " 'domain_metadata': {'name': 'The A.V. Club',\n",
       "  'logo': 'https://logo.clearbit.com/avclub.com?size=800',\n",
       "  'greyscale_logo': 'https://logo.clearbit.com/avclub.com?size=800&greyscale=true'},\n",
       " 'listen_duration_estimate': 480}"
      ]
     },
     "execution_count": 27,
     "metadata": {},
     "output_type": "execute_result"
    }
   ],
   "source": [
    "x[0]['list']['2765120574']"
   ]
  },
  {
   "cell_type": "code",
   "execution_count": null,
   "metadata": {},
   "outputs": [],
   "source": []
  }
 ],
 "metadata": {
  "kernelspec": {
   "display_name": "Python 3",
   "language": "python",
   "name": "python3"
  },
  "language_info": {
   "codemirror_mode": {
    "name": "ipython",
    "version": 3
   },
   "file_extension": ".py",
   "mimetype": "text/x-python",
   "name": "python",
   "nbconvert_exporter": "python",
   "pygments_lexer": "ipython3",
   "version": "3.7.3"
  }
 },
 "nbformat": 4,
 "nbformat_minor": 2
}
