{
 "cells": [
  {
   "cell_type": "code",
   "execution_count": 1,
   "metadata": {
    "ExecuteTime": {
     "end_time": "2021-08-08T03:21:14.006488Z",
     "start_time": "2021-08-08T03:21:13.990948Z"
    }
   },
   "outputs": [],
   "source": [
    "import sys, os, time\n",
    "from dotenv import load_dotenv, find_dotenv"
   ]
  },
  {
   "cell_type": "code",
   "execution_count": 2,
   "metadata": {
    "ExecuteTime": {
     "end_time": "2021-08-08T03:21:14.171761Z",
     "start_time": "2021-08-08T03:21:14.166015Z"
    }
   },
   "outputs": [],
   "source": [
    "# import numpy as np"
   ]
  },
  {
   "cell_type": "code",
   "execution_count": 3,
   "metadata": {
    "ExecuteTime": {
     "end_time": "2021-08-08T03:21:14.340346Z",
     "start_time": "2021-08-08T03:21:14.324665Z"
    }
   },
   "outputs": [
    {
     "data": {
      "text/plain": [
       "True"
      ]
     },
     "execution_count": 3,
     "metadata": {},
     "output_type": "execute_result"
    }
   ],
   "source": [
    "load_dotenv(find_dotenv())"
   ]
  },
  {
   "cell_type": "code",
   "execution_count": 4,
   "metadata": {
    "ExecuteTime": {
     "end_time": "2021-08-08T03:21:14.531171Z",
     "start_time": "2021-08-08T03:21:14.478285Z"
    }
   },
   "outputs": [],
   "source": [
    "from pocket import Pocket"
   ]
  },
  {
   "cell_type": "code",
   "execution_count": 5,
   "metadata": {
    "ExecuteTime": {
     "end_time": "2021-08-08T03:21:15.102630Z",
     "start_time": "2021-08-08T03:21:14.600835Z"
    }
   },
   "outputs": [],
   "source": [
    "consumer_key = os.environ['POCKET_CONSUMER_KEY']\n",
    "redirect_uri = 'https://www.google.com'\n",
    "request_token = Pocket.get_request_token(consumer_key=consumer_key, redirect_uri=redirect_uri)"
   ]
  },
  {
   "cell_type": "code",
   "execution_count": 6,
   "metadata": {
    "ExecuteTime": {
     "end_time": "2021-08-08T03:21:15.109560Z",
     "start_time": "2021-08-08T03:21:15.105230Z"
    }
   },
   "outputs": [],
   "source": [
    "auth_url = Pocket.get_auth_url(code=request_token, redirect_uri=redirect_uri)"
   ]
  },
  {
   "cell_type": "code",
   "execution_count": 8,
   "metadata": {
    "ExecuteTime": {
     "end_time": "2021-08-08T03:21:27.453996Z",
     "start_time": "2021-08-08T03:21:27.449718Z"
    }
   },
   "outputs": [
    {
     "name": "stdout",
     "output_type": "stream",
     "text": [
      "https://getpocket.com/auth/authorize?request_token=3372ba57-b8a1-7396-6eab-e37662&redirect_uri=https://www.google.com\n"
     ]
    }
   ],
   "source": [
    "print(auth_url)"
   ]
  },
  {
   "cell_type": "code",
   "execution_count": 9,
   "metadata": {
    "ExecuteTime": {
     "end_time": "2021-08-08T03:21:28.205495Z",
     "start_time": "2021-08-08T03:21:27.764799Z"
    }
   },
   "outputs": [],
   "source": [
    "user_credentials = Pocket.get_credentials(consumer_key=consumer_key, code=request_token)"
   ]
  },
  {
   "cell_type": "code",
   "execution_count": 10,
   "metadata": {
    "ExecuteTime": {
     "end_time": "2021-08-08T03:21:29.132559Z",
     "start_time": "2021-08-08T03:21:29.126519Z"
    }
   },
   "outputs": [],
   "source": [
    "access_token = user_credentials['access_token']"
   ]
  },
  {
   "cell_type": "code",
   "execution_count": 11,
   "metadata": {
    "ExecuteTime": {
     "end_time": "2021-08-08T03:21:30.720668Z",
     "start_time": "2021-08-08T03:21:30.715608Z"
    }
   },
   "outputs": [],
   "source": [
    "pocket_instance = Pocket(consumer_key, access_token)"
   ]
  },
  {
   "cell_type": "code",
   "execution_count": 12,
   "metadata": {
    "ExecuteTime": {
     "end_time": "2021-08-08T03:22:27.908252Z",
     "start_time": "2021-08-08T03:21:33.267806Z"
    }
   },
   "outputs": [
    {
     "name": "stdout",
     "output_type": "stream",
     "text": [
      "status is 2 (i is 4)\n"
     ]
    }
   ],
   "source": [
    "# Get a list of all article IDs\n",
    "article_ids = []\n",
    "offset = 0\n",
    "count = 5000\n",
    "i = 0\n",
    "while True:\n",
    "    r = pocket_instance.get(detailType='simple', count=count, offset=offset)\n",
    "    if r[0]['status'] != 1:\n",
    "        print('status is {} (i is {})'.format(r[0]['status'], i))\n",
    "        break\n",
    "    article_ids.extend([x for x in r[0]['list'].keys()])\n",
    "    offset += count\n",
    "    i += 1"
   ]
  },
  {
   "cell_type": "code",
   "execution_count": 13,
   "metadata": {
    "ExecuteTime": {
     "end_time": "2021-08-08T03:22:27.920358Z",
     "start_time": "2021-08-08T03:22:27.912975Z"
    }
   },
   "outputs": [
    {
     "data": {
      "text/plain": [
       "19568"
      ]
     },
     "execution_count": 13,
     "metadata": {},
     "output_type": "execute_result"
    }
   ],
   "source": [
    "len(article_ids)"
   ]
  },
  {
   "cell_type": "code",
   "execution_count": 52,
   "metadata": {
    "ExecuteTime": {
     "end_time": "2021-08-08T05:20:06.570597Z",
     "start_time": "2021-08-08T05:20:05.455690Z"
    }
   },
   "outputs": [],
   "source": [
    "offset = 0\n",
    "count = 100\n",
    "i = 0\n",
    "while True:\n",
    "    r = pocket_instance.get(detailType='complete', count=count, offset=offset, since=0)\n",
    "    break"
   ]
  },
  {
   "cell_type": "code",
   "execution_count": 53,
   "metadata": {
    "ExecuteTime": {
     "end_time": "2021-08-08T05:20:08.046691Z",
     "start_time": "2021-08-08T05:20:08.040837Z"
    }
   },
   "outputs": [
    {
     "data": {
      "text/plain": [
       "dict_keys(['status', 'complete', 'list', 'error', 'search_meta', 'since'])"
      ]
     },
     "execution_count": 53,
     "metadata": {},
     "output_type": "execute_result"
    }
   ],
   "source": [
    "r[0].keys()"
   ]
  },
  {
   "cell_type": "code",
   "execution_count": 54,
   "metadata": {
    "ExecuteTime": {
     "end_time": "2021-08-08T05:20:09.219450Z",
     "start_time": "2021-08-08T05:20:09.213823Z"
    }
   },
   "outputs": [
    {
     "data": {
      "text/plain": [
       "dict_keys(['3398673707', '3398748332', '3398855268', '3399045230', '3399419551', '3398452113', '3398049884', '3398459834', '3398390121', '3398608898', '3398641889', '3398664470', '3397060317', '3397226400', '3397153525', '3397345590', '3397764471', '3396494605', '3394725261', '3394760954', '3394978920', '3394886524', '3394624878', '3393894039', '3393912045', '3393991012', '3393565536', '3392979048', '3393044620', '3393016587', '3393051842', '3393562357', '3393354018', '3386212732', '3392177986', '3392421906', '3392876171', '3391244963', '3391359138', '3391396571', '3391214098', '3389010049', '3388116586', '3388128019', '3388865038', '3387343878', '3386162370', '3386185099', '3386434699', '3387271629', '3385320842', '3385511505', '3383410630', '3384051164', '3382496917', '3382966443', '3382984908', '3383150280', '3383157381', '3383171428', '3381615777', '3381628010', '3381667972', '3381692377', '3382146400', '3382221499', '3382265572', '3382342915', '3382351403', '3382400463', '3382412794', '3380770487', '3381319145', '3381475558', '3381426503', '3381513487', '3380010799', '3380458200', '3380642862', '3380637858', '3379678353', '3379721798', '3379742890', '3378910703', '3378956139', '3378982980', '3377528886', '3378229417', '3360142522', '3377679121', '3376732949', '3376812773', '3377070859', '3375896801', '3375954263', '3376079054', '3376203094', '3376578302', '3376663103', '3376712414'])"
      ]
     },
     "execution_count": 54,
     "metadata": {},
     "output_type": "execute_result"
    }
   ],
   "source": [
    "r[0]['list'].keys()"
   ]
  },
  {
   "cell_type": "code",
   "execution_count": 48,
   "metadata": {
    "ExecuteTime": {
     "end_time": "2021-08-08T04:44:23.291370Z",
     "start_time": "2021-08-08T04:44:23.282847Z"
    }
   },
   "outputs": [
    {
     "data": {
      "text/plain": [
       "dict_keys(['item_id', 'resolved_id', 'given_url', 'given_title', 'favorite', 'status', 'time_added', 'time_updated', 'time_read', 'time_favorited', 'sort_id', 'resolved_title', 'resolved_url', 'excerpt', 'is_article', 'is_index', 'has_video', 'has_image', 'word_count', 'lang', 'time_to_read', 'amp_url', 'top_image_url', 'tags', 'authors', 'domain_metadata', 'listen_duration_estimate'])"
      ]
     },
     "execution_count": 48,
     "metadata": {},
     "output_type": "execute_result"
    }
   ],
   "source": [
    "r[0]['list']['3393565536'].keys()"
   ]
  },
  {
   "cell_type": "code",
   "execution_count": 51,
   "metadata": {
    "ExecuteTime": {
     "end_time": "2021-08-08T04:45:30.707172Z",
     "start_time": "2021-08-08T04:45:30.697526Z"
    }
   },
   "outputs": [
    {
     "data": {
      "text/plain": [
       "{'dogs': {'item_id': '3393565536', 'tag': 'dogs'},\n",
       " 'longread': {'item_id': '3393565536', 'tag': 'longread'}}"
      ]
     },
     "execution_count": 51,
     "metadata": {},
     "output_type": "execute_result"
    }
   ],
   "source": [
    "r[0]['list']['3393565536']['tags']"
   ]
  },
  {
   "cell_type": "code",
   "execution_count": null,
   "metadata": {},
   "outputs": [],
   "source": []
  },
  {
   "cell_type": "code",
   "execution_count": 61,
   "metadata": {
    "ExecuteTime": {
     "end_time": "2019-11-09T19:21:39.394687Z",
     "start_time": "2019-11-09T19:21:39.390359Z"
    }
   },
   "outputs": [],
   "source": [
    "random_state = np.random.RandomState()"
   ]
  },
  {
   "cell_type": "code",
   "execution_count": 65,
   "metadata": {
    "ExecuteTime": {
     "end_time": "2019-11-09T19:26:24.796161Z",
     "start_time": "2019-11-09T19:26:24.787628Z"
    }
   },
   "outputs": [],
   "source": [
    "sample_ids = random_state.choice(article_ids, size=10, replace=False)"
   ]
  },
  {
   "cell_type": "code",
   "execution_count": 66,
   "metadata": {
    "ExecuteTime": {
     "end_time": "2019-11-09T19:26:27.997554Z",
     "start_time": "2019-11-09T19:26:27.329951Z"
    }
   },
   "outputs": [
    {
     "data": {
      "text/plain": [
       "({'action_results': [True,\n",
       "   True,\n",
       "   True,\n",
       "   True,\n",
       "   True,\n",
       "   True,\n",
       "   True,\n",
       "   True,\n",
       "   True,\n",
       "   True],\n",
       "  'action_errors': [None,\n",
       "   None,\n",
       "   None,\n",
       "   None,\n",
       "   None,\n",
       "   None,\n",
       "   None,\n",
       "   None,\n",
       "   None,\n",
       "   None],\n",
       "  'status': 1},\n",
       " {'Date': 'Sat, 09 Nov 2019 19:26:27 GMT', 'Content-Type': 'application/json', 'Content-Length': '149', 'Connection': 'keep-alive', 'Server': 'Apache/2.4.25 (Debian)', 'X-Frame-Options': 'SAMEORIGIN', 'Status': '200 OK', 'X-Limit-Key-Limit': '10000', 'X-Limit-Key-Remaining': '9986', 'X-Limit-Key-Reset': '1920', 'X-Source': 'Pocket', 'P3P': 'policyref=\"/w3c/p3p.xml\", CP=\"ALL CURa ADMa DEVa OUR IND UNI COM NAV INT STA PRE\"'})"
      ]
     },
     "execution_count": 66,
     "metadata": {},
     "output_type": "execute_result"
    }
   ],
   "source": [
    "for id_ in sample_ids:\n",
    "    pocket_instance.tags_add(id_, 'test_random')\n",
    "pocket_instance.commit()"
   ]
  },
  {
   "cell_type": "code",
   "execution_count": null,
   "metadata": {},
   "outputs": [],
   "source": []
  }
 ],
 "metadata": {
  "kernelspec": {
   "display_name": "Python 3 (ipykernel)",
   "language": "python",
   "name": "python3"
  },
  "language_info": {
   "codemirror_mode": {
    "name": "ipython",
    "version": 3
   },
   "file_extension": ".py",
   "mimetype": "text/x-python",
   "name": "python",
   "nbconvert_exporter": "python",
   "pygments_lexer": "ipython3",
   "version": "3.8.5"
  }
 },
 "nbformat": 4,
 "nbformat_minor": 2
}
