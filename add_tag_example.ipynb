{
 "cells": [
  {
   "cell_type": "code",
   "execution_count": 1,
   "metadata": {
    "ExecuteTime": {
     "end_time": "2019-11-09T19:04:08.523038Z",
     "start_time": "2019-11-09T19:04:08.517326Z"
    }
   },
   "outputs": [],
   "source": [
    "import sys, os, time\n",
    "from dotenv import load_dotenv, find_dotenv"
   ]
  },
  {
   "cell_type": "code",
   "execution_count": 12,
   "metadata": {
    "ExecuteTime": {
     "end_time": "2019-11-09T19:06:19.353707Z",
     "start_time": "2019-11-09T19:06:19.222734Z"
    }
   },
   "outputs": [],
   "source": [
    "import numpy as np"
   ]
  },
  {
   "cell_type": "code",
   "execution_count": 2,
   "metadata": {
    "ExecuteTime": {
     "end_time": "2019-11-09T19:04:08.858346Z",
     "start_time": "2019-11-09T19:04:08.849094Z"
    }
   },
   "outputs": [
    {
     "data": {
      "text/plain": [
       "True"
      ]
     },
     "execution_count": 2,
     "metadata": {},
     "output_type": "execute_result"
    }
   ],
   "source": [
    "load_dotenv(find_dotenv())"
   ]
  },
  {
   "cell_type": "code",
   "execution_count": 3,
   "metadata": {
    "ExecuteTime": {
     "end_time": "2019-11-09T19:04:09.389562Z",
     "start_time": "2019-11-09T19:04:09.337194Z"
    }
   },
   "outputs": [],
   "source": [
    "from pocket import Pocket"
   ]
  },
  {
   "cell_type": "code",
   "execution_count": 4,
   "metadata": {
    "ExecuteTime": {
     "end_time": "2019-11-09T19:04:09.988175Z",
     "start_time": "2019-11-09T19:04:09.555134Z"
    }
   },
   "outputs": [],
   "source": [
    "consumer_key = os.environ['POCKET_CONSUMER_KEY']\n",
    "redirect_uri = 'https://www.google.com'\n",
    "request_token = Pocket.get_request_token(consumer_key=consumer_key, redirect_uri=redirect_uri)"
   ]
  },
  {
   "cell_type": "code",
   "execution_count": 5,
   "metadata": {
    "ExecuteTime": {
     "end_time": "2019-11-09T19:04:10.011844Z",
     "start_time": "2019-11-09T19:04:10.009212Z"
    }
   },
   "outputs": [],
   "source": [
    "auth_url = Pocket.get_auth_url(code=request_token, redirect_uri=redirect_uri)"
   ]
  },
  {
   "cell_type": "code",
   "execution_count": 6,
   "metadata": {
    "ExecuteTime": {
     "end_time": "2019-11-09T19:04:10.405061Z",
     "start_time": "2019-11-09T19:04:10.402027Z"
    }
   },
   "outputs": [
    {
     "name": "stdout",
     "output_type": "stream",
     "text": [
      "https://getpocket.com/auth/authorize?request_token=1d7904a9-5d91-b725-dc2e-ba0e5d&redirect_uri=https://www.google.com\n"
     ]
    }
   ],
   "source": [
    "print(auth_url)"
   ]
  },
  {
   "cell_type": "code",
   "execution_count": 8,
   "metadata": {
    "ExecuteTime": {
     "end_time": "2019-11-09T19:04:22.318148Z",
     "start_time": "2019-11-09T19:04:21.895919Z"
    }
   },
   "outputs": [],
   "source": [
    "user_credentials = Pocket.get_credentials(consumer_key=consumer_key, code=request_token)"
   ]
  },
  {
   "cell_type": "code",
   "execution_count": 9,
   "metadata": {
    "ExecuteTime": {
     "end_time": "2019-11-09T19:04:22.788559Z",
     "start_time": "2019-11-09T19:04:22.785371Z"
    }
   },
   "outputs": [],
   "source": [
    "access_token = user_credentials['access_token']"
   ]
  },
  {
   "cell_type": "code",
   "execution_count": 10,
   "metadata": {
    "ExecuteTime": {
     "end_time": "2019-11-09T19:04:23.230940Z",
     "start_time": "2019-11-09T19:04:23.227824Z"
    }
   },
   "outputs": [],
   "source": [
    "pocket_instance = Pocket(consumer_key, access_token)"
   ]
  },
  {
   "cell_type": "code",
   "execution_count": 58,
   "metadata": {
    "ExecuteTime": {
     "end_time": "2019-11-09T19:18:43.013397Z",
     "start_time": "2019-11-09T19:17:56.362983Z"
    }
   },
   "outputs": [
    {
     "name": "stdout",
     "output_type": "stream",
     "text": [
      "status is 2 (i is 4)\n"
     ]
    }
   ],
   "source": [
    "# Get a list of all article IDs\n",
    "article_ids = []\n",
    "offset = 0\n",
    "count = 5000\n",
    "i = 0\n",
    "while True:\n",
    "    r = pocket_instance.get(detailType='simple', count=count, offset=offset)\n",
    "    if r[0]['status'] != 1:\n",
    "        print('status is {} (i is {})'.format(r[0]['status'], i))\n",
    "        break\n",
    "    article_ids.extend([x for x in r[0]['list'].keys()])\n",
    "    offset += count\n",
    "    i += 1"
   ]
  },
  {
   "cell_type": "code",
   "execution_count": 59,
   "metadata": {
    "ExecuteTime": {
     "end_time": "2019-11-09T19:20:38.410857Z",
     "start_time": "2019-11-09T19:20:38.406067Z"
    }
   },
   "outputs": [
    {
     "data": {
      "text/plain": [
       "16502"
      ]
     },
     "execution_count": 59,
     "metadata": {},
     "output_type": "execute_result"
    }
   ],
   "source": [
    "len(article_ids)"
   ]
  },
  {
   "cell_type": "code",
   "execution_count": 61,
   "metadata": {
    "ExecuteTime": {
     "end_time": "2019-11-09T19:21:39.394687Z",
     "start_time": "2019-11-09T19:21:39.390359Z"
    }
   },
   "outputs": [],
   "source": [
    "random_state = np.random.RandomState()"
   ]
  },
  {
   "cell_type": "code",
   "execution_count": 65,
   "metadata": {
    "ExecuteTime": {
     "end_time": "2019-11-09T19:26:24.796161Z",
     "start_time": "2019-11-09T19:26:24.787628Z"
    }
   },
   "outputs": [],
   "source": [
    "sample_ids = random_state.choice(article_ids, size=10, replace=False)"
   ]
  },
  {
   "cell_type": "code",
   "execution_count": 66,
   "metadata": {
    "ExecuteTime": {
     "end_time": "2019-11-09T19:26:27.997554Z",
     "start_time": "2019-11-09T19:26:27.329951Z"
    }
   },
   "outputs": [
    {
     "data": {
      "text/plain": [
       "({'action_results': [True,\n",
       "   True,\n",
       "   True,\n",
       "   True,\n",
       "   True,\n",
       "   True,\n",
       "   True,\n",
       "   True,\n",
       "   True,\n",
       "   True],\n",
       "  'action_errors': [None,\n",
       "   None,\n",
       "   None,\n",
       "   None,\n",
       "   None,\n",
       "   None,\n",
       "   None,\n",
       "   None,\n",
       "   None,\n",
       "   None],\n",
       "  'status': 1},\n",
       " {'Date': 'Sat, 09 Nov 2019 19:26:27 GMT', 'Content-Type': 'application/json', 'Content-Length': '149', 'Connection': 'keep-alive', 'Server': 'Apache/2.4.25 (Debian)', 'X-Frame-Options': 'SAMEORIGIN', 'Status': '200 OK', 'X-Limit-Key-Limit': '10000', 'X-Limit-Key-Remaining': '9986', 'X-Limit-Key-Reset': '1920', 'X-Source': 'Pocket', 'P3P': 'policyref=\"/w3c/p3p.xml\", CP=\"ALL CURa ADMa DEVa OUR IND UNI COM NAV INT STA PRE\"'})"
      ]
     },
     "execution_count": 66,
     "metadata": {},
     "output_type": "execute_result"
    }
   ],
   "source": [
    "for id_ in sample_ids:\n",
    "    pocket_instance.tags_add(id_, 'test_random')\n",
    "pocket_instance.commit()"
   ]
  },
  {
   "cell_type": "code",
   "execution_count": null,
   "metadata": {},
   "outputs": [],
   "source": []
  }
 ],
 "metadata": {
  "kernelspec": {
   "display_name": "Python 3",
   "language": "python",
   "name": "python3"
  },
  "language_info": {
   "codemirror_mode": {
    "name": "ipython",
    "version": 3
   },
   "file_extension": ".py",
   "mimetype": "text/x-python",
   "name": "python",
   "nbconvert_exporter": "python",
   "pygments_lexer": "ipython3",
   "version": "3.7.1"
  }
 },
 "nbformat": 4,
 "nbformat_minor": 2
}
